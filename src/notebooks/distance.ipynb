{
 "cells": [
  {
   "cell_type": "markdown",
   "metadata": {},
   "source": [
    "# Distance!\n",
    "In this notebook, I will be trying out different paths towards the creation of a demo using distance formulae to determine music similarity. Most of the experimentation will be with **normalization** and the different **distance equations** used, maybe later on I'll play around with **weight adjustments** and I could also play with **Dimensionality Reduction**."
   ]
  },
  {
   "cell_type": "markdown",
   "metadata": {},
   "source": [
    "### Imports and Setup"
   ]
  },
  {
   "cell_type": "code",
   "execution_count": 50,
   "metadata": {},
   "outputs": [],
   "source": [
    "import numpy as np\n",
    "import pandas as pd\n",
    "from pprint import pprint\n",
    "from copy import deepcopy\n",
    "from typing import Callable\n",
    "from sklearn.preprocessing import StandardScaler, MinMaxScaler, normalize\n",
    "\n",
    "DATASET_PATH = '/Users/nico/Desktop/CIIC/CAPSTONE/essentia_demo/03_29_25_test_features_full.csv'\n",
    "base_df      = pd.read_csv(DATASET_PATH)\n",
    "features     = ['popularity', 'mfcc_peak_energy', 'mfcc_avg_energy', 'pitch_salience', 'bpm', 'energy', 'integrated_loudness', 'loudness_range',\n",
    "                'danceable_effnet', 'aggressive_effnet', 'happy_effnet', 'party_effnet', 'relaxed_effnet', 'sad_effnet', 'acoustic_effnet',\n",
    "                'electronic_effnet', 'instrumental_effnet', 'female_effnet', 'tonal_effnet', 'bright_effnet', 'bright_nsynth_effnet',\n",
    "                'approachable_effnet', 'approachability_effnet', 'engaging_effnet', 'engagement_effnet']"
   ]
  },
  {
   "cell_type": "markdown",
   "metadata": {},
   "source": [
    "### Normalization\n",
    "Here we'll just create three dataframes from the `base_df` using different normalization methods. Based on previous tests, the one that worked best was the `z_score_df` which uses **Z Score Normalization**."
   ]
  },
  {
   "cell_type": "code",
   "execution_count": 51,
   "metadata": {},
   "outputs": [],
   "source": [
    "z_score_df  = deepcopy(base_df)\n",
    "min_max_df  = deepcopy(base_df)\n",
    "unit_vec_df = deepcopy(base_df)\n",
    "\n",
    "z_score_df[features]  = StandardScaler().fit_transform(z_score_df[features])\n",
    "min_max_df[features]  = MinMaxScaler(feature_range=(0,1)).fit_transform(min_max_df[features])\n",
    "unit_vec_df[features] = normalize(unit_vec_df[features], norm = 'l2') # What... this is just the L2 Norm? Idk, weird\n",
    "                                                                      # This one sucks real bad... idk how would it be\n",
    "                                                                      # any good..."
   ]
  },
  {
   "cell_type": "markdown",
   "metadata": {},
   "source": [
    "### Defining Distance Formulae\n",
    "Here I'm defining some of the distance formulae that I believe will be useful for our project. I'm not using Chebyshev at all because I find it to not be applicable to our use case, I think it would suck here."
   ]
  },
  {
   "cell_type": "code",
   "execution_count": 54,
   "metadata": {},
   "outputs": [],
   "source": [
    "def dist_helper(compare_df : pd.DataFrame, dist_func : Callable, track_index : int = 0):\n",
    "  result_dict = {}\n",
    "  input_track = compare_df.iloc[track_index]\n",
    "  print(f\"Selected Track : {input_track['ARTIST'], input_track['TITLE']}\")\n",
    "\n",
    "\n",
    "  for ix, curr_track in compare_df.iterrows():\n",
    "    if ix == track_index: continue\n",
    "    track_name = \"_\".join([curr_track['ARTIST'], curr_track['TITLE']])\n",
    "\n",
    "    dist_score = dist_func(features, input_track, curr_track)\n",
    "    result_dict[track_name] = dist_score\n",
    "\n",
    "  return result_dict\n",
    "\n",
    "\n",
    "def print_top(distance_dict : dict[str, float], top_ix : int = 15):\n",
    "  for ix, items in enumerate(distance_dict.items()):\n",
    "    if ix >= top_ix: break\n",
    "    key, val = items\n",
    "    print(key, val)\n",
    "\n",
    "\n",
    "def manhattan_dist(feature_list : list[str], input_track, comparison_track):\n",
    "  \"\"\"Same as taxicab or L1 Norm. It's all the same, it's like breathing air.\"\"\"\n",
    "  dist_score = 0\n",
    "  for feature in feature_list:\n",
    "    input_feat   = input_track[feature]\n",
    "    compare_feat = comparison_track[feature]\n",
    "    dist_score   += abs(input_feat - compare_feat)\n",
    "\n",
    "  return float(dist_score)\n",
    "\n",
    "\n",
    "def euclidean_dist(feature_list : list[str], input_track, comparison_track):\n",
    "  \"\"\"Same as L2 Norm\"\"\"\n",
    "  dist_score = 0\n",
    "  for feature in feature_list:\n",
    "    input_feat   = input_track[feature]\n",
    "    compare_feat = comparison_track[feature]\n",
    "    dist_score   += (input_feat - compare_feat)**2\n",
    "\n",
    "  return float(dist_score)\n",
    "\n",
    "\n",
    "def cosine_dist(feature_list : list[str], input_track, comparison_track):\n",
    "  input_feat   = input_track[feature_list]\n",
    "  compare_feat = comparison_track[feature_list]\n",
    "  return np.dot(input_feat, compare_feat) / (np.linalg.norm(input_feat) * np.linalg.norm(input_feat))\n",
    "\n",
    "\n",
    "def mahalanobis_dist(compare_df : pd.DataFrame, feature_list: list[str], track_index : int = 0):\n",
    "    \"\"\"\n",
    "    Computes Mahalanobis distance between two tracks, given an inverse covariance matrix.\n",
    "\n",
    "    Parameters:\n",
    "      feature_list: List of feature names to include in the distance calculation.\n",
    "      input_track: Dictionary-like or Series object with features of input track.\n",
    "      comparison_track: Dictionary-like or Series object with features of comparison track.\n",
    "      inv_cov_matrix: Precomputed inverse covariance matrix of the dataset.\n",
    "\n",
    "    Returns:\n",
    "      float: Mahalanobis distance between input_track and comparison_track.\n",
    "    \"\"\"\n",
    "\n",
    "    # Set up basics\n",
    "    result_dict    = {}\n",
    "    input_track    = compare_df.iloc[track_index]\n",
    "    print(f\"Selected Track : {input_track['ARTIST'], input_track['TITLE']}\")\n",
    "\n",
    "    # Acquire necessary values for mahalanobis\n",
    "    cov_matrix     = np.cov(compare_df[feature_list].values, rowvar=False)\n",
    "    inv_cov_matrix = np.linalg.inv(cov_matrix)\n",
    "\n",
    "    for ix, comp_track in compare_df.iterrows():\n",
    "      if ix == track_index : continue\n",
    "      track_name     = \"_\".join([comp_track['ARTIST'], comp_track['TITLE']])\n",
    "\n",
    "\n",
    "      # Create the feature vectors from the track data\n",
    "      input_vector   = np.array([input_track[feature] for feature in feature_list])\n",
    "      compare_vector =  np.array([comp_track[feature] for feature in feature_list])\n",
    "\n",
    "      # Calculate the difference vector\n",
    "      diff_vector    = input_vector - compare_vector\n",
    "\n",
    "      # Calculate the Mahalanobis distance explicitly\n",
    "      dist_score     = np.sqrt(diff_vector.T @ inv_cov_matrix @ diff_vector)\n",
    "      result_dict[track_name] = float(dist_score)\n",
    "\n",
    "    return result_dict"
   ]
  },
  {
   "cell_type": "markdown",
   "metadata": {},
   "source": [
    "### Testing"
   ]
  },
  {
   "cell_type": "code",
   "execution_count": null,
   "metadata": {},
   "outputs": [
    {
     "name": "stdout",
     "output_type": "stream",
     "text": [
      "Selected Track : ('yeule', 'Pretty Bones')\n",
      "Lorde_Supercut 3.643982692806503\n",
      "MIKE_Iz u Stupid 3.72531128162808\n",
      "A. G. Cook_Lucifer 3.7782813505846775\n",
      "ESPRIT 空想_Secret 3.805614566300338\n",
      "Ecco2k_Cc 3.809434024842212\n",
      "yeule_inferno 3.9260747736054578\n",
      "Burial_Ghost Hardware 3.9787762489986145\n",
      "Vince Staples_Homage 4.031025355948976\n",
      "Billie Eilish_wish you were gay 4.0401741096443935\n",
      "Yung Lean_Yellowman 4.107697950793843\n",
      "Eartheater_High Tide 4.116632213917167\n",
      "yeule_Pocky Boy 4.121100919504808\n",
      "Della Zyr_여름: 모호함 속의 너 / 2악장 / 놓아줄 때가 되면 놓아주기 4.123151573162734\n",
      "Ecco2k_Peroxide 4.19165551412244\n",
      "Draag Me_There Is a Party Where I'm Going 4.235121789091024\n"
     ]
    }
   ],
   "source": [
    "output = mahalanobis_dist(base_df, features, track_index=118)\n",
    "output = dict(sorted(output.items(), key=lambda item: item[1]))\n",
    "\n"
   ]
  },
  {
   "cell_type": "code",
   "execution_count": 53,
   "metadata": {},
   "outputs": [
    {
     "name": "stdout",
     "output_type": "stream",
     "text": [
      "Selected Track : ('yeule', 'Pretty Bones')\n",
      "yeule_inferno 8.85066056859401\n",
      "James Blake_I Want You To Know 10.070945155183141\n",
      "yeule_Pixel Affection 10.572584561745277\n",
      "ESPRIT 空想_Secret 10.687195588811813\n",
      "George Clanton_Everything I Want 10.930947828455755\n",
      "Ecco2k_Cc 11.2141818748849\n",
      "yeule_Pocky Boy 12.095229612444989\n",
      "Burial_Ghost Hardware 12.209164880124579\n",
      "James Blake_Fire The Editor 13.020157766179357\n",
      "Sam Gellaitry_Embark 13.312151063170084\n",
      "Yung Lean_Yellowman 13.40018212836539\n",
      "Della Zyr_여름: 모호함 속의 너 / 2악장 / 놓아줄 때가 되면 놓아주기 13.496214046590266\n",
      "Burial_Archangel 14.343680736848539\n",
      "MIKE_Iz u Stupid 14.4292352741993\n",
      "Sam Gellaitry_Fall 14.602567326887867\n"
     ]
    }
   ],
   "source": [
    "output = dist_helper(z_score_df, euclidean_dist, track_index=118)\n",
    "output = dict(sorted(output.items(), key=lambda item: item[1]))\n",
    "\n",
    "for ix, items in enumerate(output.items()):\n",
    "  if ix >= 15: break\n",
    "  key, val = items\n",
    "  print(key, val)\n"
   ]
  }
 ],
 "metadata": {
  "kernelspec": {
   "display_name": "venv",
   "language": "python",
   "name": "python3"
  },
  "language_info": {
   "codemirror_mode": {
    "name": "ipython",
    "version": 3
   },
   "file_extension": ".py",
   "mimetype": "text/x-python",
   "name": "python",
   "nbconvert_exporter": "python",
   "pygments_lexer": "ipython3",
   "version": "3.9.21"
  }
 },
 "nbformat": 4,
 "nbformat_minor": 2
}
